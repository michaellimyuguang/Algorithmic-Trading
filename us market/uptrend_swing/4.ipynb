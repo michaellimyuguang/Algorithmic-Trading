{
 "cells": [
  {
   "cell_type": "code",
   "execution_count": 31,
   "metadata": {},
   "outputs": [],
   "source": [
    "import datetime as dt\n",
    "import pandas as pd\n",
    "import numpy as np\n",
    "from os import listdir\n",
    "from os.path import isfile, join"
   ]
  },
  {
   "cell_type": "code",
   "execution_count": 32,
   "metadata": {},
   "outputs": [
    {
     "name": "stdout",
     "output_type": "stream",
     "text": [
      "2021-02-04\n"
     ]
    }
   ],
   "source": [
    "#the month and day that has previous day cci <= -100 and today closed with nice green candle\n",
    "y = '2021'\n",
    "m = '02'\n",
    "d = '04'\n",
    "before_date = y + '-' + m + '-' + d\n",
    "print(before_date)"
   ]
  },
  {
   "cell_type": "code",
   "execution_count": 33,
   "metadata": {},
   "outputs": [],
   "source": [
    "def indicators_calculation(df, before_date):\n",
    "    \n",
    "    #df is the filtered df to inspect\n",
    "    df = df[(df['Date'] <= before_date)]\n",
    "    \n",
    "    #SMAs\n",
    "    df['50SMA'] = df['Close'].rolling(window=50).mean().round(2)\n",
    "    df['100SMA'] = df['Close'].rolling(window=100).mean().round(2)\n",
    "    df['20 Volume'] = df['Volume'].rolling(window=20).mean().round(2)\n",
    "\n",
    "    #5CCI\n",
    "    #typical price used for cci calculation\n",
    "    df['TP'] = (df['High'] + df['Low'] + df['Close']) / 3\n",
    "    #mean deviation formula used in cci calculation\n",
    "    MD = lambda x : np.mean(np.abs(x-np.mean(x)))\n",
    "    #cci calculation\n",
    "    df['CCI'] = ((df['TP'] - df['TP'].rolling(5).mean()) / (0.015 * df['TP'].rolling(5).apply(MD, True))).round(2) \n",
    "\n",
    "    df['A'] = np.where((df['Low'] > df['50SMA']), True, False)\n",
    "    df['B'] = np.where((df['Low'] > df['100SMA']), True, False)\n",
    "    df['Uptrend'] = np.where((df['50SMA'] > df['100SMA']), True, False)\n",
    "    df['NON_PENNY'] = np.where((df['Low'] > 5), True, False)\n",
    "    df['Liquid'] = np.where((df['20 Volume'] > 200000), True, False)\n",
    "\n",
    "    return df\n",
    "\n",
    "\n",
    "def indicator_condition(df_ticker_info):\n",
    "    df_check = df_ticker_info[-50:]\n",
    "    ratio = (df_check['Close'].iloc[-1] - df_check['Low'].iloc[-1]) / (df_check['High'].iloc[-1] - df_check['Low'].iloc[-1])\n",
    "    if (df_check['CCI'].iloc[-2] <= -100) and (df_check['Close'].iloc[-1] > df_check['Open'].iloc[-1]) and (df_check['Close'].iloc[-1] > df_check['Close'].iloc[-2]) and (df_check['Close'].iloc[-1] > df_check['Open'].iloc[-2]) and (ratio >= 0.7)  and df_check['A'].all() and df_check['B'].all() and df_check['NON_PENNY'].all() and df_check['Liquid'].all() and df_check['Uptrend'].all():\n",
    "        return True"
   ]
  },
  {
   "cell_type": "code",
   "execution_count": 34,
   "metadata": {},
   "outputs": [
    {
     "name": "stderr",
     "output_type": "stream",
     "text": [
      "C:\\Anaconda3\\lib\\site-packages\\ipykernel_launcher.py:7: SettingWithCopyWarning: \n",
      "A value is trying to be set on a copy of a slice from a DataFrame.\n",
      "Try using .loc[row_indexer,col_indexer] = value instead\n",
      "\n",
      "See the caveats in the documentation: https://pandas.pydata.org/pandas-docs/stable/user_guide/indexing.html#returning-a-view-versus-a-copy\n",
      "  import sys\n",
      "C:\\Anaconda3\\lib\\site-packages\\ipykernel_launcher.py:8: SettingWithCopyWarning: \n",
      "A value is trying to be set on a copy of a slice from a DataFrame.\n",
      "Try using .loc[row_indexer,col_indexer] = value instead\n",
      "\n",
      "See the caveats in the documentation: https://pandas.pydata.org/pandas-docs/stable/user_guide/indexing.html#returning-a-view-versus-a-copy\n",
      "  \n",
      "C:\\Anaconda3\\lib\\site-packages\\ipykernel_launcher.py:9: SettingWithCopyWarning: \n",
      "A value is trying to be set on a copy of a slice from a DataFrame.\n",
      "Try using .loc[row_indexer,col_indexer] = value instead\n",
      "\n",
      "See the caveats in the documentation: https://pandas.pydata.org/pandas-docs/stable/user_guide/indexing.html#returning-a-view-versus-a-copy\n",
      "  if __name__ == '__main__':\n",
      "C:\\Anaconda3\\lib\\site-packages\\ipykernel_launcher.py:13: SettingWithCopyWarning: \n",
      "A value is trying to be set on a copy of a slice from a DataFrame.\n",
      "Try using .loc[row_indexer,col_indexer] = value instead\n",
      "\n",
      "See the caveats in the documentation: https://pandas.pydata.org/pandas-docs/stable/user_guide/indexing.html#returning-a-view-versus-a-copy\n",
      "  del sys.path[0]\n",
      "C:\\Anaconda3\\lib\\site-packages\\ipykernel_launcher.py:17: SettingWithCopyWarning: \n",
      "A value is trying to be set on a copy of a slice from a DataFrame.\n",
      "Try using .loc[row_indexer,col_indexer] = value instead\n",
      "\n",
      "See the caveats in the documentation: https://pandas.pydata.org/pandas-docs/stable/user_guide/indexing.html#returning-a-view-versus-a-copy\n",
      "C:\\Anaconda3\\lib\\site-packages\\ipykernel_launcher.py:19: SettingWithCopyWarning: \n",
      "A value is trying to be set on a copy of a slice from a DataFrame.\n",
      "Try using .loc[row_indexer,col_indexer] = value instead\n",
      "\n",
      "See the caveats in the documentation: https://pandas.pydata.org/pandas-docs/stable/user_guide/indexing.html#returning-a-view-versus-a-copy\n",
      "C:\\Anaconda3\\lib\\site-packages\\ipykernel_launcher.py:20: SettingWithCopyWarning: \n",
      "A value is trying to be set on a copy of a slice from a DataFrame.\n",
      "Try using .loc[row_indexer,col_indexer] = value instead\n",
      "\n",
      "See the caveats in the documentation: https://pandas.pydata.org/pandas-docs/stable/user_guide/indexing.html#returning-a-view-versus-a-copy\n",
      "C:\\Anaconda3\\lib\\site-packages\\ipykernel_launcher.py:21: SettingWithCopyWarning: \n",
      "A value is trying to be set on a copy of a slice from a DataFrame.\n",
      "Try using .loc[row_indexer,col_indexer] = value instead\n",
      "\n",
      "See the caveats in the documentation: https://pandas.pydata.org/pandas-docs/stable/user_guide/indexing.html#returning-a-view-versus-a-copy\n",
      "C:\\Anaconda3\\lib\\site-packages\\ipykernel_launcher.py:22: SettingWithCopyWarning: \n",
      "A value is trying to be set on a copy of a slice from a DataFrame.\n",
      "Try using .loc[row_indexer,col_indexer] = value instead\n",
      "\n",
      "See the caveats in the documentation: https://pandas.pydata.org/pandas-docs/stable/user_guide/indexing.html#returning-a-view-versus-a-copy\n",
      "C:\\Anaconda3\\lib\\site-packages\\ipykernel_launcher.py:23: SettingWithCopyWarning: \n",
      "A value is trying to be set on a copy of a slice from a DataFrame.\n",
      "Try using .loc[row_indexer,col_indexer] = value instead\n",
      "\n",
      "See the caveats in the documentation: https://pandas.pydata.org/pandas-docs/stable/user_guide/indexing.html#returning-a-view-versus-a-copy\n",
      "C:\\Anaconda3\\lib\\site-packages\\ipykernel_launcher.py:30: RuntimeWarning: invalid value encountered in double_scalars\n"
     ]
    }
   ],
   "source": [
    "path = r'C:\\Users\\michael\\Desktop\\trading materials\\us market\\us_tickers_history'\n",
    "ticker_files = [f for f in listdir(path) if isfile(join(path, f))]\n",
    "ticker_files_array = np.array(ticker_files)\n",
    "ticker_files_split = ticker_files_array\n",
    "\n",
    "n = 0\n",
    "wanted_list = []\n",
    "ratio_list = []\n",
    "for i in ticker_files_split:\n",
    "    df_ticker = pd.read_csv(join(path, i))\n",
    "    df_ticker_info = indicators_calculation(df_ticker, before_date)\n",
    "    if (indicator_condition(df_ticker_info)):\n",
    "        wanted_list.append(i[:-4])\n",
    "        ratio = (df_ticker_info['Close'].iloc[-1] - df_ticker_info['Low'].iloc[-1]) / (df_ticker_info['High'].iloc[-1] - df_ticker_info['Low'].iloc[-1])\n",
    "        ratio_list.append(ratio)"
   ]
  },
  {
   "cell_type": "code",
   "execution_count": 35,
   "metadata": {},
   "outputs": [
    {
     "name": "stdout",
     "output_type": "stream",
     "text": [
      "['SBGI', 'VCRA']\n"
     ]
    }
   ],
   "source": [
    "print(wanted_list)"
   ]
  },
  {
   "cell_type": "code",
   "execution_count": 36,
   "metadata": {},
   "outputs": [],
   "source": [
    "path2 = r'C:\\Users\\michael\\Desktop\\trading materials\\us market\\uptrend_swing\\compiled'\n",
    "df = pd.DataFrame(list(zip(wanted_list, ratio_list)), columns =['Name', 'Ratio'])\n",
    "filename = before_date + '.xlsx'\n",
    "df.to_excel(join(path2, filename), index=False)"
   ]
  }
 ],
 "metadata": {
  "kernelspec": {
   "display_name": "Python 3",
   "language": "python",
   "name": "python3"
  },
  "language_info": {
   "codemirror_mode": {
    "name": "ipython",
    "version": 3
   },
   "file_extension": ".py",
   "mimetype": "text/x-python",
   "name": "python",
   "nbconvert_exporter": "python",
   "pygments_lexer": "ipython3",
   "version": "3.7.6"
  }
 },
 "nbformat": 4,
 "nbformat_minor": 4
}
