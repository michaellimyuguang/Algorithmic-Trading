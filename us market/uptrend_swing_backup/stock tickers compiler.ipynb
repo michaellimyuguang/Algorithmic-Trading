{
 "cells": [
  {
   "cell_type": "code",
   "execution_count": 1,
   "metadata": {},
   "outputs": [],
   "source": [
    "from os import listdir\n",
    "from os.path import isfile, join\n",
    "import pandas as pd"
   ]
  },
  {
   "cell_type": "code",
   "execution_count": 2,
   "metadata": {},
   "outputs": [],
   "source": [
    "mypath = r\"C:\\Users\\michael\\Desktop\\trading materials\\us market\\us stocks tickers\"\n",
    "onlyfiles = [f for f in listdir(mypath) if isfile(join(mypath, f))]\n",
    "\n",
    "df = pd.DataFrame()\n",
    "\n",
    "for i in range(len(onlyfiles)):\n",
    "    df2 = pd.read_csv(mypath + r\"\\\\\" + onlyfiles[i])\n",
    "    df = df.append(df2, ignore_index=True)\n",
    "    \n",
    "df.to_csv(r\"C:\\Users\\michael\\Desktop\\trading materials\\us market\\uptrend_swing\\us tickers.csv\", index=False)"
   ]
  }
 ],
 "metadata": {
  "kernelspec": {
   "display_name": "Python 3",
   "language": "python",
   "name": "python3"
  },
  "language_info": {
   "codemirror_mode": {
    "name": "ipython",
    "version": 3
   },
   "file_extension": ".py",
   "mimetype": "text/x-python",
   "name": "python",
   "nbconvert_exporter": "python",
   "pygments_lexer": "ipython3",
   "version": "3.8.5"
  }
 },
 "nbformat": 4,
 "nbformat_minor": 4
}
