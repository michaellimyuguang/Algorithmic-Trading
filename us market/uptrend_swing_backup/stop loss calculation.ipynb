{
 "cells": [
  {
   "cell_type": "code",
   "execution_count": 4,
   "metadata": {},
   "outputs": [],
   "source": [
    "import datetime as dt\n",
    "import pandas as pd\n",
    "import pandas_datareader.data as web"
   ]
  },
  {
   "cell_type": "code",
   "execution_count": 5,
   "metadata": {},
   "outputs": [],
   "source": [
    "def sl_calculation(ticker):\n",
    "    info_list = []\n",
    "    \n",
    "    end = dt.datetime.today()\n",
    "    start = dt.datetime.today() - dt.timedelta(days=310)\n",
    "    df = web.DataReader(ticker, 'yahoo', start, end)\n",
    "\n",
    "    df['40SMA'] = df['Close'].rolling(window=40).mean().round(2)\n",
    "    df['50SMA'] = df['Close'].rolling(window=50).mean().round(2)\n",
    "    \n",
    "    sma40 = df['40SMA'].iloc[-1]\n",
    "    sl = round(((df['40SMA'].iloc[-1] + df['50SMA'].iloc[-1]) / 2), 2)\n",
    "    \n",
    "    info_list.append(sma40)\n",
    "    info_list.append(sl)\n",
    "    return info_list\n"
   ]
  },
  {
   "cell_type": "code",
   "execution_count": 6,
   "metadata": {},
   "outputs": [
    {
     "name": "stdout",
     "output_type": "stream",
     "text": [
      "MCY: [60.5, 59.83]\n",
      "DE: [353.95, 348.65]\n",
      "GWB: [29.83, 29.35]\n",
      "JCI: [58.36, 57.58]\n",
      "RPT: [11.53, 11.34]\n",
      "PPBI: [42.25, 41.56]\n",
      "ETH: [26.68, 26.46]\n",
      "TRIP: [50.37, 48.76]\n"
     ]
    }
   ],
   "source": [
    "counter_list = ['MCY', 'DE', 'GWB', 'JCI', 'RPT', 'PPBI', 'ETH', 'TRIP']\n",
    "\n",
    "for i in counter_list:\n",
    "    info_list = sl_calculation(i)\n",
    "    print(i + \": \" + str(info_list))"
   ]
  }
 ],
 "metadata": {
  "kernelspec": {
   "display_name": "Python 3",
   "language": "python",
   "name": "python3"
  },
  "language_info": {
   "codemirror_mode": {
    "name": "ipython",
    "version": 3
   },
   "file_extension": ".py",
   "mimetype": "text/x-python",
   "name": "python",
   "nbconvert_exporter": "python",
   "pygments_lexer": "ipython3",
   "version": "3.7.6"
  }
 },
 "nbformat": 4,
 "nbformat_minor": 4
}
